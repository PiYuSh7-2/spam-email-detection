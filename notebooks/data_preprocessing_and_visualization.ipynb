{
 "cells": [
  {
   "cell_type": "code",
   "execution_count": null,
   "id": "576f7639-0aae-40ac-aceb-6f80cfdec95f",
   "metadata": {},
   "outputs": [],
   "source": [
    "# Load Data\n",
    "import pandas as pd\n",
    "df = pd.read_csv('../data/spam.csv', encoding='latin-1')[['v1', 'v2']]\n",
    "df.columns = ['label', 'message']\n",
    "df.head()"
   ]
  },
  {
   "cell_type": "code",
   "execution_count": null,
   "id": "f99a3c6f-2c73-4fd3-9c6b-8cd73b53cd0c",
   "metadata": {},
   "outputs": [],
   "source": [
    "# Check and clean missing values\n",
    "df.isnull().sum()\n",
    "df.dropna(inplace=True)\n"
   ]
  },
  {
   "cell_type": "code",
   "execution_count": null,
   "id": "615bd828-2109-4eb1-8aba-4767ae4e8ca1",
   "metadata": {},
   "outputs": [],
   "source": [
    "# Feature Engineering\n",
    "df['label_num'] = df['label'].map({'ham': 0, 'spam': 1})\n",
    "df['message_length'] = df['message'].apply(len)\n"
   ]
  },
  {
   "cell_type": "code",
   "execution_count": null,
   "id": "ac57fb13-9fc1-4f87-a2c0-ce683fa288fb",
   "metadata": {},
   "outputs": [],
   "source": [
    "# Summary Stats\n",
    "df.describe()\n",
    "df.groupby('label').describe()\n"
   ]
  },
  {
   "cell_type": "code",
   "execution_count": null,
   "id": "2e674961-f911-4a8f-8276-3541b6c4bb3e",
   "metadata": {},
   "outputs": [],
   "source": [
    "# Visualizations\n",
    "import seaborn as sns\n",
    "import matplotlib.pyplot as plt\n",
    "\n",
    "sns.countplot(data=df, x='label')\n",
    "plt.title(\"Label Distribution\")\n",
    "plt.show()\n"
   ]
  },
  {
   "cell_type": "code",
   "execution_count": null,
   "id": "61850eca-f4cc-4a5e-b090-db3bcb0ec544",
   "metadata": {},
   "outputs": [],
   "source": [
    "# Message Length Boxplot\n",
    "sns.boxplot(data=df, x='label', y='message_length')\n",
    "plt.title(\"Message Length by Label\")\n",
    "plt.show()\n"
   ]
  },
  {
   "cell_type": "code",
   "execution_count": null,
   "id": "9f8d2616-cabb-4597-ae94-7eba76eecb30",
   "metadata": {},
   "outputs": [],
   "source": [
    "# Word Clouds\n",
    "from wordcloud import WordCloud\n",
    "\n",
    "spam_words = ' '.join(df[df.label=='spam']['message'])\n",
    "ham_words = ' '.join(df[df.label=='ham']['message'])\n",
    "\n",
    "WordCloud(background_color='white').generate(spam_words).to_image().show()\n",
    "WordCloud(background_color='white').generate(ham_words).to_image().show()\n"
   ]
  },
  {
   "cell_type": "code",
   "execution_count": null,
   "id": "ee842b0b-21fa-4af4-b5b2-dc94d3cf97ef",
   "metadata": {},
   "outputs": [],
   "source": [
    "# Save cleaned data\n",
    "df.to_csv('../outputs/cleaned_data.csv', index=False)\n"
   ]
  }
 ],
 "metadata": {
  "kernelspec": {
   "display_name": "Python 3 (ipykernel)",
   "language": "python",
   "name": "python3"
  },
  "language_info": {
   "codemirror_mode": {
    "name": "ipython",
    "version": 3
   },
   "file_extension": ".py",
   "mimetype": "text/x-python",
   "name": "python",
   "nbconvert_exporter": "python",
   "pygments_lexer": "ipython3",
   "version": "3.12.6"
  }
 },
 "nbformat": 4,
 "nbformat_minor": 5
}
